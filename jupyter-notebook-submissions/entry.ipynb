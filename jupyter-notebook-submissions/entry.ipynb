{
 "cells": [
  {
   "cell_type": "code",
   "execution_count": null,
   "metadata": {
    "vscode": {
     "languageId": "plaintext"
    }
   },
   "outputs": [],
   "source": [
    "import os\n",
    "\n",
    "# Detect if we are in the TIRA sandbox\n",
    "# Install the required dependencies if we are not in the sandbox.\n",
    "if 'TIRA_DATASET_ID' not in os.environ:\n",
    "    !pip3 install python-terrier tira==0.0.88 ir_datasets trectools\n",
    "else:\n",
    "    print('We are in the TIRA sandbox.')\n"
   ]
  },
  {
   "cell_type": "code",
   "execution_count": null,
   "metadata": {},
   "outputs": [],
   "source": [
    "# create index\n",
    "import pyterrier as pt\n",
    "\n",
    "def create_index(documents):\n",
    "    indexer = pt.IterDictIndexer(\n",
    "        \"./tmp/index\", \n",
    "        overwrite=True, \n",
    "        stopwords=\"./stopwordlists/stopwords_english_long.txt\", \n",
    "        meta={'docno': 100, 'text': 20480},\n",
    "        stemmer='porter'\n",
    "    )\n",
    "    index_ref = indexer.index(({'docno': i.doc_id, 'text': i.text} for i in documents))\n",
    "    return pt.IndexFactory.of(index_ref)\n"
   ]
  },
  {
   "cell_type": "code",
   "execution_count": null,
   "metadata": {},
   "outputs": [],
   "source": [
    "# create model\n",
    "import pyterrier as pt\n",
    "\n",
    "def create_model(index):\n",
    "    return pt.BatchRetrieve(index, wmodel=\"BM25\")"
   ]
  },
  {
   "cell_type": "code",
   "execution_count": null,
   "metadata": {},
   "outputs": [],
   "source": [
    "# load dataset\n",
    "from tira.third_party_integrations import ir_datasets\n",
    "import pyterrier as pt\n",
    "\n",
    "def load_dataset():\n",
    "    training_dataset = 'ir-lab-jena-leipzig-wise-2023/training-20231104-training'\n",
    "\n",
    "    queries = pt.io.read_topics(ir_datasets.topics_file(training_dataset), format='trecxml')\n",
    "\n",
    "    dataset = ir_datasets.load(training_dataset)\n",
    "    return {'documents': dataset.docs_iter(), 'queries': queries}"
   ]
  },
  {
   "cell_type": "code",
   "execution_count": null,
   "metadata": {},
   "outputs": [],
   "source": [
    "from tira.third_party_integrations import ensure_pyterrier_is_loaded, persist_and_normalize_run\n",
    "import pyterrier as pt\n",
    "\n",
    "from load_dataset import load_dataset \n",
    "from create_index import create_index\n",
    "from create_model import create_model\n",
    "from test_model import test_model\n",
    "\n",
    "\n",
    "if not pt.started():\n",
    "    pt.init()\n",
    "\n",
    "ensure_pyterrier_is_loaded()\n",
    "\n",
    "# load data\n",
    "load_dataset_result = load_dataset()\n",
    "documents, queries = load_dataset_result['documents'], load_dataset_result['queries']\n",
    "print(\"data load\")\n",
    "\n",
    "# create index\n",
    "index = create_index(documents)\n",
    "print(\"index created\")\n",
    "\n",
    "# create model\n",
    "model = create_model(index)\n",
    "print(\"model created\")\n",
    "\n",
    "# run model\n",
    "run = model(queries)\n",
    "persist_and_normalize_run(run, 'bm25-baseline')"
   ]
  }
 ],
 "metadata": {
  "kernelspec": {
   "display_name": "base",
   "language": "python",
   "name": "python3"
  },
  "language_info": {
   "codemirror_mode": {
    "name": "ipython",
    "version": 3
   },
   "file_extension": ".py",
   "mimetype": "text/x-python",
   "name": "python",
   "nbconvert_exporter": "python",
   "pygments_lexer": "ipython3",
   "version": "3.7.13"
  },
  "orig_nbformat": 4
 },
 "nbformat": 4,
 "nbformat_minor": 2
}
